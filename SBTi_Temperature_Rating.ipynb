{
  "cells": [
    {
      "cell_type": "code",
      "execution_count": null,
      "metadata": {
        "id": "dZo9u33ye6Qu",
        "colab": {
          "base_uri": "https://localhost:8080/"
        },
        "outputId": "0d87f886-fa43-4e27-aea6-fbd62860724e"
      },
      "outputs": [
        {
          "output_type": "stream",
          "name": "stdout",
          "text": [
            "Collecting sbti-finance-tool\n",
            "  Downloading sbti_finance_tool-1.0.9-py3-none-any.whl (1.9 MB)\n",
            "\u001b[2K     \u001b[90m━━━━━━━━━━━━━━━━━━━━━━━━━━━━━━━━━━━━━━━━\u001b[0m \u001b[32m1.9/1.9 MB\u001b[0m \u001b[31m4.6 MB/s\u001b[0m eta \u001b[36m0:00:00\u001b[0m\n",
            "\u001b[?25hCollecting cleo<3.0.0,>=2.0.1 (from sbti-finance-tool)\n",
            "  Downloading cleo-2.1.0-py3-none-any.whl (78 kB)\n",
            "\u001b[2K     \u001b[90m━━━━━━━━━━━━━━━━━━━━━━━━━━━━━━━━━━━━━━━━\u001b[0m \u001b[32m78.7/78.7 kB\u001b[0m \u001b[31m6.1 MB/s\u001b[0m eta \u001b[36m0:00:00\u001b[0m\n",
            "\u001b[?25hRequirement already satisfied: openpyxl==3.1.2 in /usr/local/lib/python3.10/dist-packages (from sbti-finance-tool) (3.1.2)\n",
            "Requirement already satisfied: pandas==1.5.3 in /usr/local/lib/python3.10/dist-packages (from sbti-finance-tool) (1.5.3)\n",
            "Collecting pydantic==1.10.7 (from sbti-finance-tool)\n",
            "  Downloading pydantic-1.10.7-cp310-cp310-manylinux_2_17_x86_64.manylinux2014_x86_64.whl (3.1 MB)\n",
            "\u001b[2K     \u001b[90m━━━━━━━━━━━━━━━━━━━━━━━━━━━━━━━━━━━━━━━━\u001b[0m \u001b[32m3.1/3.1 MB\u001b[0m \u001b[31m17.4 MB/s\u001b[0m eta \u001b[36m0:00:00\u001b[0m\n",
            "\u001b[?25hRequirement already satisfied: requests==2.31.0 in /usr/local/lib/python3.10/dist-packages (from sbti-finance-tool) (2.31.0)\n",
            "Requirement already satisfied: six==1.16.0 in /usr/local/lib/python3.10/dist-packages (from sbti-finance-tool) (1.16.0)\n",
            "Requirement already satisfied: xlrd==2.0.1 in /usr/local/lib/python3.10/dist-packages (from sbti-finance-tool) (2.0.1)\n",
            "Requirement already satisfied: et-xmlfile in /usr/local/lib/python3.10/dist-packages (from openpyxl==3.1.2->sbti-finance-tool) (1.1.0)\n",
            "Requirement already satisfied: python-dateutil>=2.8.1 in /usr/local/lib/python3.10/dist-packages (from pandas==1.5.3->sbti-finance-tool) (2.8.2)\n",
            "Requirement already satisfied: pytz>=2020.1 in /usr/local/lib/python3.10/dist-packages (from pandas==1.5.3->sbti-finance-tool) (2023.4)\n",
            "Requirement already satisfied: numpy>=1.21.0 in /usr/local/lib/python3.10/dist-packages (from pandas==1.5.3->sbti-finance-tool) (1.25.2)\n",
            "Requirement already satisfied: typing-extensions>=4.2.0 in /usr/local/lib/python3.10/dist-packages (from pydantic==1.10.7->sbti-finance-tool) (4.10.0)\n",
            "Requirement already satisfied: charset-normalizer<4,>=2 in /usr/local/lib/python3.10/dist-packages (from requests==2.31.0->sbti-finance-tool) (3.3.2)\n",
            "Requirement already satisfied: idna<4,>=2.5 in /usr/local/lib/python3.10/dist-packages (from requests==2.31.0->sbti-finance-tool) (3.6)\n",
            "Requirement already satisfied: urllib3<3,>=1.21.1 in /usr/local/lib/python3.10/dist-packages (from requests==2.31.0->sbti-finance-tool) (2.0.7)\n",
            "Requirement already satisfied: certifi>=2017.4.17 in /usr/local/lib/python3.10/dist-packages (from requests==2.31.0->sbti-finance-tool) (2024.2.2)\n",
            "Collecting crashtest<0.5.0,>=0.4.1 (from cleo<3.0.0,>=2.0.1->sbti-finance-tool)\n",
            "  Downloading crashtest-0.4.1-py3-none-any.whl (7.6 kB)\n",
            "Collecting rapidfuzz<4.0.0,>=3.0.0 (from cleo<3.0.0,>=2.0.1->sbti-finance-tool)\n",
            "  Downloading rapidfuzz-3.7.0-cp310-cp310-manylinux_2_17_x86_64.manylinux2014_x86_64.whl (3.4 MB)\n",
            "\u001b[2K     \u001b[90m━━━━━━━━━━━━━━━━━━━━━━━━━━━━━━━━━━━━━━━━\u001b[0m \u001b[32m3.4/3.4 MB\u001b[0m \u001b[31m15.2 MB/s\u001b[0m eta \u001b[36m0:00:00\u001b[0m\n",
            "\u001b[?25hInstalling collected packages: rapidfuzz, pydantic, crashtest, cleo, sbti-finance-tool\n",
            "  Attempting uninstall: pydantic\n",
            "    Found existing installation: pydantic 2.6.4\n",
            "    Uninstalling pydantic-2.6.4:\n",
            "      Successfully uninstalled pydantic-2.6.4\n",
            "Successfully installed cleo-2.1.0 crashtest-0.4.1 pydantic-1.10.7 rapidfuzz-3.7.0 sbti-finance-tool-1.0.9\n"
          ]
        }
      ],
      "source": [
        "#安裝SBTi模組步驟1\n",
        "%pip install sbti-finance-tool"
      ]
    },
    {
      "cell_type": "code",
      "execution_count": null,
      "metadata": {
        "id": "cr1OZbnjfH5k"
      },
      "outputs": [],
      "source": [
        "#安裝SBTi模組步驟2\n",
        "%load_ext autoreload\n",
        "%autoreload 2\n",
        "import SBTi\n",
        "from SBTi.data.excel import ExcelProvider\n",
        "from SBTi.portfolio_aggregation import PortfolioAggregationMethod\n",
        "from SBTi.portfolio_coverage_tvp import PortfolioCoverageTVP\n",
        "from SBTi.temperature_score import TemperatureScore, Scenario, ScenarioType, EngagementType\n",
        "from SBTi.target_validation import TargetProtocol\n",
        "from SBTi.interfaces import ETimeFrames, EScope\n",
        "%aimport -pandas\n",
        "import pandas as pd\n",
        "%matplotlib inline\n",
        "\n",
        "import logging\n",
        "root_logger = logging.getLogger()\n",
        "root_logger.setLevel(\"INFO\")"
      ]
    },
    {
      "cell_type": "code",
      "execution_count": null,
      "metadata": {
        "id": "olqgQGt1gw4z"
      },
      "outputs": [],
      "source": [
        "#匯入資料步驟12\n",
        "from google.colab import files\n",
        "uploaded = files.upload()"
      ]
    },
    {
      "cell_type": "code",
      "execution_count": null,
      "metadata": {
        "id": "pH4qYe-XupTy"
      },
      "outputs": [],
      "source": [
        "#匯入資料步驟12\n",
        "from google.colab import files\n",
        "uploaded = files.upload()"
      ]
    },
    {
      "cell_type": "code",
      "execution_count": null,
      "metadata": {
        "id": "JzGSvlTfuMVy"
      },
      "outputs": [],
      "source": [
        "#匯入資料步驟13 請注意這邊要放Provider\n",
        "provider = ExcelProvider('Provider-test.xlsx')"
      ]
    },
    {
      "cell_type": "code",
      "execution_count": null,
      "metadata": {
        "id": "AzbcHHRwk50P"
      },
      "outputs": [],
      "source": [
        "#匯入資料步驟13 請注意這邊要放Portfolio\n",
        "df_portfolio = pd.read_excel('Portfolio-test.xlsx')"
      ]
    },
    {
      "cell_type": "code",
      "execution_count": null,
      "metadata": {
        "id": "ddoBoMQWk-h8"
      },
      "outputs": [],
      "source": [
        "#匯入資料 預覽匯入之Portfolio\n",
        "df_portfolio.head(5)"
      ]
    },
    {
      "cell_type": "code",
      "execution_count": null,
      "metadata": {
        "id": "0g8VDAmSlGB7"
      },
      "outputs": [],
      "source": [
        "#計算溫度數值步驟1\n",
        "companies = SBTi.utils.dataframe_to_portfolio(df_portfolio)\n",
        "temperature_score = TemperatureScore(\n",
        "    time_frames=list(SBTi.interfaces.ETimeFrames),\n",
        "    scopes=[EScope.S1S2, EScope.S3, EScope.S1S2S3], # EScopes: S3, S1S2 and S1S2S3\n",
        "    aggregation_method=PortfolioAggregationMethod.WATS # Options for the aggregation method are WATS, TETS, AOTS, MOTS, EOTS, ECOTS, and ROTS.\n",
        ")\n",
        "amended_portfolio = temperature_score.calculate(data_providers=[provider], portfolio=companies)"
      ]
    },
    {
      "cell_type": "code",
      "execution_count": null,
      "metadata": {
        "id": "46Qt5H9VlM3_"
      },
      "outputs": [],
      "source": [
        "#計算溫度數值步驟2\n",
        "details = amended_portfolio[['company_name', 'time_frame', 'scope', 'temperature_score']]\n",
        "print(details)"
      ]
    },
    {
      "cell_type": "code",
      "execution_count": null,
      "metadata": {
        "id": "yuOaU5XWahHV",
        "colab": {
          "base_uri": "https://localhost:8080/"
        },
        "outputId": "efeb31a0-1d2d-48f4-8e14-02b0ad81feb9"
      },
      "outputs": [
        {
          "output_type": "stream",
          "name": "stdout",
          "text": [
            "Mounted at /content/drive\n"
          ]
        }
      ],
      "source": [
        "#計算溫度數值步驟3\n",
        "#無須下載可以先跳過\n",
        "from google.colab import drive\n",
        "drive.mount('/content/drive')"
      ]
    },
    {
      "cell_type": "code",
      "execution_count": null,
      "metadata": {
        "id": "MeF1Zgn2X0TT"
      },
      "outputs": [],
      "source": [
        "#計算溫度數值步驟4\n",
        "#無須下載可以先跳過\n",
        "details.to_csv('/content/drive/MyDrive/details.csv')"
      ]
    },
    {
      "cell_type": "code",
      "execution_count": null,
      "metadata": {
        "id": "aELPCVs2lQVO"
      },
      "outputs": [],
      "source": [
        "#計算溫度數值步驟6\n",
        "aggregated_scores = temperature_score.aggregate_scores(amended_portfolio)\n",
        "pd.DataFrame(aggregated_scores.dict()).applymap(lambda x: round(x['all']['score'], 2))"
      ]
    },
    {
      "cell_type": "code",
      "execution_count": null,
      "metadata": {
        "id": "IW1nmknXvJXb"
      },
      "outputs": [],
      "source": [
        "#加權方式比較步驟1\n",
        "portfolio_data = SBTi.utils.get_data([provider], companies)\n",
        "scenarios = {}\n",
        "scores_collection = {}\n",
        "temperature_score = TemperatureScore(time_frames=list(SBTi.interfaces.ETimeFrames), scopes=[EScope.S1S2, EScope.S3, EScope.S1S2S3])\n",
        "amended_portfolio = temperature_score.calculate(data_providers=[provider], portfolio=companies)"
      ]
    },
    {
      "cell_type": "code",
      "source": [
        "#加權方式比較步驟2\n",
        "#WATS\n",
        "temperature_score.aggregation_method = PortfolioAggregationMethod.WATS\n",
        "aggregated_scores = temperature_score.aggregate_scores(amended_portfolio)\n",
        "df_wats = pd.DataFrame(aggregated_scores.dict()).applymap(lambda x: round(x['all']['score'], 2))\n",
        "scores_collection.update({'WATS': df_wats})\n",
        "#TETS\n",
        "temperature_score.aggregation_method = PortfolioAggregationMethod.TETS\n",
        "aggregated_scores = temperature_score.aggregate_scores(amended_portfolio)\n",
        "df_tets = pd.DataFrame(aggregated_scores.dict()).applymap(lambda x: round(x['all']['score'], 2))\n",
        "scores_collection.update({'TETS': df_tets})\n",
        "#MOTS\n",
        "temperature_score.aggregation_method = PortfolioAggregationMethod.MOTS\n",
        "aggregated_scores = temperature_score.aggregate_scores(amended_portfolio)\n",
        "df_mots = pd.DataFrame(aggregated_scores.dict()).applymap(lambda x: round(x['all']['score'], 2))\n",
        "scores_collection.update({'MOTS': df_mots})\n",
        "#ETOS\n",
        "temperature_score.aggregation_method = PortfolioAggregationMethod.EOTS\n",
        "aggregated_scores = temperature_score.aggregate_scores(amended_portfolio)\n",
        "df_eots = pd.DataFrame(aggregated_scores.dict()).applymap(lambda x: round(x['all']['score'], 2))\n",
        "scores_collection.update({'EOTS': df_eots})\n",
        "#ECOTS\n",
        "temperature_score.aggregation_method = PortfolioAggregationMethod.ECOTS\n",
        "aggregated_scores = temperature_score.aggregate_scores(amended_portfolio)\n",
        "df_ecots = pd.DataFrame(aggregated_scores.dict()).applymap(lambda x: round(x['all']['score'], 2))\n",
        "scores_collection.update({'ECOTS': df_ecots})\n",
        "#AOTS\n",
        "temperature_score.aggregation_method = PortfolioAggregationMethod.AOTS\n",
        "aggregated_scores = temperature_score.aggregate_scores(amended_portfolio)\n",
        "df_aots = pd.DataFrame(aggregated_scores.dict()).applymap(lambda x: round(x['all']['score'], 2))\n",
        "scores_collection.update({'AOTS': df_aots})\n",
        "#ROTS\n",
        "temperature_score.aggregation_method = PortfolioAggregationMethod.ROTS\n",
        "aggregated_scores = temperature_score.aggregate_scores(amended_portfolio)\n",
        "df_rots = pd.DataFrame(aggregated_scores.dict()).applymap(lambda x: round(x['all']['score'], 2))\n",
        "scores_collection.update({'ROTS': df_rots})\n",
        "pd.concat(scores_collection, axis=0)"
      ],
      "metadata": {
        "id": "Tqa6RmDQHlbt"
      },
      "execution_count": null,
      "outputs": []
    },
    {
      "cell_type": "code",
      "execution_count": null,
      "metadata": {
        "id": "ziFtQvllvOG1"
      },
      "outputs": [],
      "source": [
        "#情境分析步驟1-短期\n",
        "# Set the time frames and scopes for the scoring\n",
        "time_frames = [SBTi.interfaces.ETimeFrames.SHORT]         # ETimeFrames: SHORT MID and LONG\n",
        "scopes = [EScope.S1S2]                                # EScopes: S1, S2, S3, S1S2 and S1S2S3\n",
        "#Base scenario(temperature scores for all the timeframe and scope combinations)\n",
        "temperature_score = TemperatureScore(time_frames=time_frames, scopes=scopes)\n",
        "base_scenario = temperature_score.calculate(portfolio_data.copy())\n",
        "base_scenario_aggregated = temperature_score.aggregate_scores(base_scenario)\n",
        "base_score = base_scenario_aggregated.short.S1S2.all.score\n",
        "scenarios.update({'Base Scenario-short': base_score})\n",
        "print(\"The portfolio's base scenario-short temperature score (short - S1S2) is {c:.2f} degrees celcius\".format(c=base_score))"
      ]
    },
    {
      "cell_type": "code",
      "source": [
        "#情境分析步驟2-短期\n",
        "#Scenario 2-short(engage with companies to influence them to set SBTi approved emissions reduction targets)\n",
        "#maximum score=1.75\n",
        "scenario = Scenario()\n",
        "scenario.scenario_type = ScenarioType.APPROVED_TARGETS\n",
        "scenario.engagement_type = None\n",
        "scenario.aggregation_method = PortfolioAggregationMethod.WATS\n",
        "scenario.grouping = None\n",
        "temperature_score = TemperatureScore(time_frames=time_frames, scopes=scopes, scenario=scenario, aggregation_method=PortfolioAggregationMethod.WATS)\n",
        "scenario_two = temperature_score.calculate(portfolio_data.copy())\n",
        "scenario_aggregated = temperature_score.aggregate_scores(scenario_two)\n",
        "scenario_2_short_score = scenario_aggregated.short.S1S2.all.score\n",
        "scenarios.update({'Scenario 2-short': scenario_2_short_score})\n",
        "print(\"The portfolio's scenario 2-short temperature score (short - S1S2) is {c:.2f} degrees Celsius\".format(c=scenario_2_short_score))"
      ],
      "metadata": {
        "id": "I7zK2aDDgT3Z"
      },
      "execution_count": null,
      "outputs": []
    },
    {
      "cell_type": "code",
      "execution_count": null,
      "metadata": {
        "id": "mmLrP5QfzB-X"
      },
      "outputs": [],
      "source": [
        "#情境分析步驟3-短期\n",
        "#Scenario 4b-short(engage with any company in the portfolio and manage to influence them to set SBTi-approved targets)\n",
        "#maximum score=1.75\n",
        "scenario = Scenario()\n",
        "scenario.scenario_type = ScenarioType.HIGHEST_CONTRIBUTORS_APPROVED\n",
        "scenario.engagement_type = EngagementType.SET_SBTI_TARGETS\n",
        "scenario.aggregation_method = PortfolioAggregationMethod.WATS\n",
        "scenario.grouping = None\n",
        "temperature_score = TemperatureScore(time_frames=time_frames, scopes=scopes, scenario=scenario, aggregation_method=PortfolioAggregationMethod.WATS)\n",
        "scenario_two = temperature_score.calculate(portfolio_data.copy())\n",
        "scenario_aggregated = temperature_score.aggregate_scores(scenario_two)\n",
        "scenario_4b1_score = scenario_aggregated.short.S1S2.all.score\n",
        "scenarios.update({'Scenario 4b-short': scenario_4b1_score})\n",
        "print(\"The portfolio's scenario 4b-short temperature score (short - S1S2) is {c:.2f} degrees Celsius\".format(c=scenario_4b1_score))\n"
      ]
    },
    {
      "cell_type": "code",
      "source": [
        "#情境分析步驟1-中期\n",
        "# Set the time frames and scopes for the scoring\n",
        "time_frames = [SBTi.interfaces.ETimeFrames.MID]         # ETimeFrames: SHORT MID and LONG\n",
        "scopes = [EScope.S1S2]                                # EScopes: S1, S2, S3, S1S2 and S1S2S3\n",
        "#Base scenario(temperature scores for all the timeframe and scope combinations)\n",
        "temperature_score = TemperatureScore(time_frames=time_frames, scopes=scopes)\n",
        "base_scenario = temperature_score.calculate(portfolio_data.copy())\n",
        "base_scenario_aggregated = temperature_score.aggregate_scores(base_scenario)\n",
        "base_score = base_scenario_aggregated.mid.S1S2.all.score\n",
        "scenarios.update({'Base Scenario-mid': base_score})\n",
        "print(\"The portfolio's base scenario-mid temperature score (mid - S1S2) is {c:.2f} degrees celcius\".format(c=base_score))"
      ],
      "metadata": {
        "id": "8Ev23dfIoM_Z"
      },
      "execution_count": null,
      "outputs": []
    },
    {
      "cell_type": "code",
      "source": [
        "#情境分析步驟2-中期\n",
        "#Scenario 2-mid(engage with companies to influence them to set SBTi approved emissions reduction targets)\n",
        "#maximum score=1.75\n",
        "scenario = Scenario()\n",
        "scenario.scenario_type = ScenarioType.APPROVED_TARGETS\n",
        "scenario.engagement_type = None\n",
        "scenario.aggregation_method = PortfolioAggregationMethod.WATS\n",
        "scenario.grouping = None\n",
        "temperature_score = TemperatureScore(time_frames=time_frames, scopes=scopes, scenario=scenario, aggregation_method=PortfolioAggregationMethod.WATS)\n",
        "scenario_two = temperature_score.calculate(portfolio_data.copy())\n",
        "scenario_aggregated = temperature_score.aggregate_scores(scenario_two)\n",
        "scenario_2_mid_score = scenario_aggregated.mid.S1S2.all.score\n",
        "scenarios.update({'Scenario 2-mid': scenario_2_mid_score})\n",
        "print(\"The portfolio's scenario 2-mid temperature score (mid - S1S2) is {c:.2f} degrees Celsius\".format(c=scenario_2_mid_score))"
      ],
      "metadata": {
        "id": "QjWAGwdrIOoj"
      },
      "execution_count": null,
      "outputs": []
    },
    {
      "cell_type": "code",
      "source": [
        "#情境分析步驟3-中期\n",
        "#Scenario 4b-mid(engage with any company in the portfolio and manage to influence them to set SBTi-approved targets)\n",
        "#maximum score=1.75\n",
        "scenario = Scenario()\n",
        "scenario.scenario_type = ScenarioType.HIGHEST_CONTRIBUTORS_APPROVED\n",
        "scenario.engagement_type = EngagementType.SET_SBTI_TARGETS\n",
        "scenario.aggregation_method = PortfolioAggregationMethod.WATS\n",
        "scenario.grouping = None\n",
        "temperature_score = TemperatureScore(time_frames=time_frames, scopes=scopes, scenario=scenario, aggregation_method=PortfolioAggregationMethod.WATS)\n",
        "scenario_two = temperature_score.calculate(portfolio_data.copy())\n",
        "scenario_aggregated = temperature_score.aggregate_scores(scenario_two)\n",
        "scenario_4b2_score = scenario_aggregated.mid.S1S2.all.score\n",
        "scenarios.update({'Scenario 4b-mid': scenario_4b2_score})\n",
        "print(\"The portfolio's scenario 4b-mid temperature score (mid - S1S2) is {c:.2f} degrees Celsius\".format(c=scenario_4b2_score))"
      ],
      "metadata": {
        "id": "H8inHiHqMMMd"
      },
      "execution_count": null,
      "outputs": []
    },
    {
      "cell_type": "code",
      "source": [
        "#情境分析步驟1-長期\n",
        "# Set the time frames and scopes for the scoring\n",
        "time_frames = [SBTi.interfaces.ETimeFrames.LONG]         # ETimeFrames: SHORT MID and LONG\n",
        "scopes = [EScope.S1S2]                                # EScopes: S1, S2, S3, S1S2 and S1S2S3\n",
        "#Base scenario(temperature scores for all the timeframe and scope combinations)\n",
        "temperature_score = TemperatureScore(time_frames=time_frames, scopes=scopes)\n",
        "base_scenario = temperature_score.calculate(portfolio_data.copy())\n",
        "base_scenario_aggregated = temperature_score.aggregate_scores(base_scenario)\n",
        "base_score = base_scenario_aggregated.long.S1S2.all.score\n",
        "scenarios.update({'Base Scenario-long': base_score})\n",
        "print(\"The portfolio's base scenario-long temperature score (long - S1S2) is {c:.2f} degrees celcius\".format(c=base_score))"
      ],
      "metadata": {
        "id": "2eLF_SpuoS4l"
      },
      "execution_count": null,
      "outputs": []
    },
    {
      "cell_type": "code",
      "source": [
        "#情境分析步驟2-長期\n",
        "#Scenario 2-L(engage with companies to influence them to set SBTi approved emissions reduction targets)\n",
        "#maximum score=1.75\n",
        "scenario = Scenario()\n",
        "scenario.scenario_type = ScenarioType.APPROVED_TARGETS\n",
        "scenario.engagement_type = None\n",
        "scenario.aggregation_method = PortfolioAggregationMethod.WATS\n",
        "scenario.grouping = None\n",
        "temperature_score = TemperatureScore(time_frames=time_frames, scopes=scopes, scenario=scenario, aggregation_method=PortfolioAggregationMethod.WATS)\n",
        "scenario_two = temperature_score.calculate(portfolio_data.copy())\n",
        "scenario_aggregated = temperature_score.aggregate_scores(scenario_two)\n",
        "scenario_2_long_score = scenario_aggregated.long.S1S2.all.score\n",
        "scenarios.update({'Scenario 2-long': scenario_2_long_score})\n",
        "print(\"The portfolio's scenario 2-long temperature score (long - S1S2) is {c:.2f} degrees Celsius\".format(c=scenario_2_long_score))"
      ],
      "metadata": {
        "id": "Nzh8sqC-IgUR"
      },
      "execution_count": null,
      "outputs": []
    },
    {
      "cell_type": "code",
      "source": [
        "#情境分析步驟3-長期\n",
        "#Scenario 4b-long(engage with any company in the portfolio and manage to influence them to set SBTi-approved targets)\n",
        "#maximum score=1.75\n",
        "scenario = Scenario()\n",
        "scenario.scenario_type = ScenarioType.HIGHEST_CONTRIBUTORS_APPROVED\n",
        "scenario.engagement_type = EngagementType.SET_SBTI_TARGETS\n",
        "scenario.aggregation_method = PortfolioAggregationMethod.WATS\n",
        "scenario.grouping = None\n",
        "temperature_score = TemperatureScore(time_frames=time_frames, scopes=scopes, scenario=scenario, aggregation_method=PortfolioAggregationMethod.WATS)\n",
        "scenario_two = temperature_score.calculate(portfolio_data.copy())\n",
        "scenario_aggregated = temperature_score.aggregate_scores(scenario_two)\n",
        "scenario_4b3_score = scenario_aggregated.long.S1S2.all.score\n",
        "scenarios.update({'Scenario 4b-long': scenario_4b3_score})\n",
        "print(\"The portfolio's scenario 4b-long temperature score (long - S1S2) is {c:.2f} degrees Celsius\".format(c=scenario_4b3_score))"
      ],
      "metadata": {
        "id": "oG-y3Y3MMYoR"
      },
      "execution_count": null,
      "outputs": []
    },
    {
      "cell_type": "code",
      "source": [
        "#情境分析步驟4\n",
        "print('{:<20s}{}'.format('', 'Temp score'))\n",
        "print('{:<20s}{}'.format('Scenario overview', '(S1S2):'))\n",
        "for scenario, score in scenarios.items():\n",
        "    print('{:<21s}{:.2f}'.format(scenario, score))"
      ],
      "metadata": {
        "id": "Mx30HnPoRAg9"
      },
      "execution_count": null,
      "outputs": []
    }
  ],
  "metadata": {
    "colab": {
      "provenance": []
    },
    "kernelspec": {
      "display_name": "Python 3",
      "name": "python3"
    },
    "language_info": {
      "name": "python"
    }
  },
  "nbformat": 4,
  "nbformat_minor": 0
}